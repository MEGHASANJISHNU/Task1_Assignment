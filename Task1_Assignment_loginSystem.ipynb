{
  "nbformat": 4,
  "nbformat_minor": 0,
  "metadata": {
    "colab": {
      "provenance": [],
      "authorship_tag": "ABX9TyO/Dlgt96j5ahVFNzJ8t0Iu",
      "include_colab_link": true
    },
    "kernelspec": {
      "name": "python3",
      "display_name": "Python 3"
    },
    "language_info": {
      "name": "python"
    }
  },
  "cells": [
    {
      "cell_type": "markdown",
      "metadata": {
        "id": "view-in-github",
        "colab_type": "text"
      },
      "source": [
        "<a href=\"https://colab.research.google.com/github/MEGHASANJISHNU/Task1_Assignment/blob/main/Task1_Assignment_loginSystem.ipynb\" target=\"_parent\"><img src=\"https://colab.research.google.com/assets/colab-badge.svg\" alt=\"Open In Colab\"/></a>"
      ]
    },
    {
      "cell_type": "markdown",
      "source": [
        "# **Login system using file handling with python**"
      ],
      "metadata": {
        "id": "a1vExyXLlLI7"
      }
    },
    {
      "cell_type": "markdown",
      "source": [
        "**1. Reading,appending,writing function into the same file**"
      ],
      "metadata": {
        "id": "dNmDY2FVlXCf"
      }
    },
    {
      "cell_type": "code",
      "execution_count": null,
      "metadata": {
        "id": "H7ImjP9-k-IL"
      },
      "outputs": [],
      "source": [
        "#file reading for checking whether is present in the file or not in both registration and login case\n",
        "def file_read_dict():    \n",
        "    with open(\"user_details\") as f1:\n",
        "        data=f1.readlines()\n",
        "        data=[x.replace(\"\\n\",\"\") for x in data]\n",
        "        data={data[i]:data[i+1] for i in range(0,len(data)-1,2)}\n",
        "    return data\n",
        "    \n",
        "#for writing into file after registration\n",
        "def file_append():\n",
        "    with open(\"user_details\",\"a+\") as f:\n",
        "        if f.tell()!=0:f.write(\"\\n\")\n",
        "        f.write(user_email)\n",
        "        f.write(\"\\n\")\n",
        "        f.write(user_password)\n",
        "\n",
        "#for overwriting into the after changing password of a specific email id        \n",
        "def file_write(content):\n",
        "    with open(\"user_details\",\"w\") as f2:\n",
        "        for i,j in content.items():\n",
        "            if f2.tell()!=0:f2.write(\"\\n\")\n",
        "            f2.write(i)\n",
        "            f2.write(\"\\n\")\n",
        "            f2.write(j)"
      ]
    },
    {
      "cell_type": "markdown",
      "source": [
        "**2. login function**"
      ],
      "metadata": {
        "id": "otCh0LkRlyko"
      }
    },
    {
      "cell_type": "code",
      "source": [
        "#complete login function with forgot password and also assigning a new password to a specific mail\n",
        "\n",
        "def login():\n",
        "    file_content=file_read_dict()\n",
        "    email_login=input(\"enter login email:\")\n",
        "        \n",
        "    if email_login in file_content.keys():\n",
        "        if input(\"enter login password:\")==file_content[email_login]:\n",
        "            print(\"successful login\")\n",
        "                \n",
        "        else:\n",
        "            print(\"incorrect password\")\n",
        "            old_new_password=int(input(\"Enter '0' for old password, '1' for registering new password:\"))\n",
        "            \n",
        "            if old_new_password==0:\n",
        "                print(\"your password:\",file_content[email_login])\n",
        "                print(\"Now you can login with your email and password\")\n",
        "                login()\n",
        "            \n",
        "            elif old_new_password==1:\n",
        "                file_content[email_login]=input('enter new password:')\n",
        "                file_write(file_content)\n",
        "                print(\"Now you can login with your email and New registered password\")\n",
        "                login()\n",
        "    else:\n",
        "        print(\"invalid user, Register\")"
      ],
      "metadata": {
        "id": "c5LYO5Mmlx71"
      },
      "execution_count": null,
      "outputs": []
    },
    {
      "cell_type": "markdown",
      "source": [
        "**3. complete flow of the code**"
      ],
      "metadata": {
        "id": "vjwuoT8DmDeY"
      }
    },
    {
      "cell_type": "code",
      "source": [
        "#complete flow from registration to login with multiple functions\n",
        "\n",
        "import re\n",
        "reg_login=int(input(\"enter 0 for registration, 1 for login:\"))\n",
        "if reg_login==0:\n",
        "    user_email=input(\"Enter email for registration:\")\n",
        "    if re.search('[a-zA-Z](\\w+)@(\\w+)\\.(\\w{2,3})',user_email):\n",
        "      with open(\"user_details\",'a'):\n",
        "        pass\n",
        "      if user_email not in file_read_dict():\n",
        "            \n",
        "          user_password=input(\"Enter your password:\")\n",
        "          reg=\"^(?=.*[a-z])(?=.*[A-Z])(?=.*\\d)(?=.*[@$!%*#?&])[A-Za-z\\d@$!#%*?&]{5,16}$\"\n",
        "          if re.search(reg,user_password):\n",
        "              file_append()\n",
        "                \n",
        "                \n",
        "              print('Registration successful, you can login')\n",
        "              login()\n",
        "          else:\n",
        "              print(\"password is invalid\")\n",
        "      else:\n",
        "          print('email already exists, you can login')\n",
        "    else:\n",
        "      print(\"email is invalid\")\n",
        "\n",
        "        \n",
        "        \n",
        "elif reg_login==1:\n",
        "    login()\n",
        "else:\n",
        "    print(\"invalid entry\")"
      ],
      "metadata": {
        "colab": {
          "base_uri": "https://localhost:8080/"
        },
        "id": "l8llGpHOmKyN",
        "outputId": "fdcb15f8-7cbd-45b7-baf3-623aa299b29c"
      },
      "execution_count": null,
      "outputs": [
        {
          "output_type": "stream",
          "name": "stdout",
          "text": [
            "enter 0 for registration, 1 for login:1\n",
            "enter login email:megha@gmail.com\n",
            "enter login password:meghQe12$\n",
            "successful login\n"
          ]
        }
      ]
    }
  ]
}